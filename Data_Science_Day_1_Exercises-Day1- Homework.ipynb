{
 "cells": [
  {
   "cell_type": "markdown",
   "metadata": {},
   "source": [
    "# Exercises"
   ]
  },
  {
   "cell_type": "markdown",
   "metadata": {},
   "source": [
    "### #1 - Calculate the BMI (body mass index) on the two lists below using NDArrays..."
   ]
  },
  {
   "cell_type": "code",
   "execution_count": null,
   "metadata": {},
   "outputs": [],
   "source": [
    "import numpy as np\n",
    "# formula = weight / (height**2) * 730\n",
    "height = [69, 70, 71, 72, 73, 74, 75]\n",
    "weight = [110, 120, 130, 140, 150, 160, 170]\n",
    "\n",
    "# OUTPUT: [16.86620458 17.87755102 18.82562984 19.71450617 20.54794521 21.32943755\n",
    "# 22.06222222]\n",
    "\n",
    "height_arr = np.array(height)\n",
    "height_arr\n",
    "\n",
    "weight_arr = np.array(weight)\n",
    "weight_arr\n",
    "\n",
    "result_arr = weight_arr / (height_arr**2 ) * 730\n",
    "result_arr\n"
   ]
  },
  {
   "cell_type": "markdown",
   "metadata": {},
   "source": [
    "### #2 - Create a function that will take in two parameters and will create a random matrix based off of those parameters. Extra: Have additional parameters taken in that allow the user to choose the shape and data type of the matrix."
   ]
  },
  {
   "cell_type": "code",
   "execution_count": null,
   "metadata": {},
   "outputs": [],
   "source": [
    "\"\"\"\n",
    "Example Result\n",
    "array([[14.21633515,  7.98846653,  9.64140715],\n",
    "       [ 6.30982234,  9.96414331,  8.43153688],\n",
    "       [14.73102068, 11.76072894, 14.23356121]])\n",
    "\"\"\"\n",
    "\n",
    "def make_matrix(low,high,shape,data_type = float):\n",
    "    return np.random.uniform(low, high, shape)\n",
    "\n",
    "make_matrix(0,15,(3,3))\n"
   ]
  },
  {
   "cell_type": "markdown",
   "metadata": {},
   "source": [
    "### #3 - Extra: Open and load the data in for the 2021 White Sox. Create a function that takes in a category (i.e. 'H' or 'HR' or '2B') and returns the average for the team"
   ]
  },
  {
   "cell_type": "code",
   "execution_count": 2,
   "metadata": {},
   "outputs": [
    {
     "name": "stdout",
     "output_type": "stream",
     "text": [
      "[['Rk', 'Pos', 'Name', 'Age', 'G', 'PA', 'AB', 'R', 'H', '2B', '3B', 'HR', 'RBI', 'SB', 'CS', 'BB', 'SO', 'BA', 'OBP', 'SLG', 'OPS', 'OPS+', 'TB', 'GDP', 'HBP', 'SH', 'SF', 'IBB'], ['1', 'C', 'Yasmani Grandal', '32', '93', '375', '279', '60', '67', '9', '0', '23', '62', '0', '0', '87', '82', '.240', '.420', '.520', '.939', '157', '145', '15', '3', '1', '5', '0'], ['2', '1B', 'José Abreu', '34', '152', '659', '566', '86', '148', '30', '2', '30', '117', '1', '0', '61', '143', '.261', '.351', '.481', '.831', '125', '272', '28', '22', '0', '10', '3'], ['3', '2B', 'Cesar Hernandez', '31', '53', '217', '194', '24', '45', '4', '0', '3', '15', '1', '1', '21', '45', '.232', '.309', '.299', '.608', '69', '58', '5', '1', '0', '1', '2'], ['4', 'SS', 'Tim Anderson', '28', '123', '551', '527', '94', '163', '29', '2', '17', '61', '18', '7', '22', '119', '.309', '.338', '.469', '.806', '118', '247', '5', '1', '0', '1', '1'], ['5', '3B', 'Yoan Moncada', '26', '144', '616', '520', '74', '137', '33', '1', '14', '61', '3', '2', '84', '157', '.263', '.375', '.412', '.787', '117', '214', '6', '10', '0', '2', '1'], ['6', 'LF', 'Andrew Vaughn', '23', '127', '469', '417', '56', '98', '22', '0', '15', '48', '1', '1', '41', '101', '.235', '.309', '.396', '.705', '92', '165', '14', '6', '0', '5', '0'], ['7', 'CF', 'Luis Robert', '23', '68', '296', '275', '42', '93', '22', '1', '13', '43', '6', '1', '14', '61', '.338', '.378', '.567', '.946', '155', '156', '4', '5', '0', '2', '1'], ['8', 'RF', 'Adam Eaton', '32', '58', '219', '189', '33', '38', '8', '2', '5', '28', '2', '0', '20', '55', '.201', '.298', '.344', '.642', '76', '65', '5', '6', '4', '0', '0'], ['9', 'DH', 'Yermin Mercedes', '28', '68', '262', '240', '26', '65', '9', '1', '7', '37', '0', '1', '20', '46', '.271', '.328', '.404', '.732', '100', '97', '7', '1', '0', '1', '1'], ['10', 'UT', 'Leury Garcia', '30', '126', '474', '415', '60', '111', '22', '4', '5', '54', '6', '2', '41', '97', '.267', '.335', '.376', '.711', '96', '156', '12', '4', '9', '5', '0'], ['11', 'OF', 'Brian Goodwin', '30', '72', '271', '235', '33', '52', '10', '1', '8', '29', '1', '0', '33', '58', '.221', '.319', '.374', '.693', '90', '88', '2', '1', '1', '1', '0'], ['12', 'LF', 'Eloy Jimenez', '24', '55', '231', '213', '23', '53', '10', '0', '10', '37', '0', '0', '16', '57', '.249', '.303', '.437', '.740', '100', '93', '8', '1', '0', '1', '0'], ['13', 'C', 'Zack Collins', '26', '78', '231', '195', '25', '41', '13', '0', '4', '26', '1', '1', '34', '69', '.210', '.330', '.338', '.669', '85', '66', '4', '1', '1', '0', '1'], ['14', '2B', 'Nick Madrigal', '24', '54', '215', '200', '30', '61', '10', '4', '2', '21', '1', '2', '11', '17', '.305', '.349', '.425', '.774', '112', '85', '3', '3', '0', '1', '0'], ['15', 'MI', 'Danny Mendick', '27', '71', '186', '164', '14', '36', '5', '0', '2', '20', '0', '1', '18', '42', '.220', '.303', '.287', '.589', '64', '47', '1', '2', '1', '1', '0'], ['16', 'DH', 'Gavin Sheets', '25', '54', '179', '160', '23', '40', '8', '0', '11', '34', '0', '0', '16', '40', '.250', '.324', '.506', '.830', '123', '81', '4', '2', '0', '1', '0'], ['17', 'CF', 'Adam Engel', '29', '39', '140', '123', '21', '31', '9', '0', '7', '18', '7', '1', '11', '31', '.252', '.336', '.496', '.832', '124', '61', '4', '5', '0', '1', '0'], ['18', 'CF', 'Billy Hamilton', '30', '71', '135', '127', '23', '28', '8', '3', '2', '11', '9', '0', '4', '47', '.220', '.242', '.378', '.620', '67', '48', '1', '0', '3', '1', '0'], ['19', 'UT', 'Jake Lamb', '30', '43', '131', '113', '20', '24', '2', '0', '6', '13', '0', '0', '17', '38', '.212', '.321', '.389', '.710', '94', '44', '4', '1', '0', '0', '0'], ['20', 'C', 'Seby Zavala', '27', '37', '104', '93', '15', '17', '3', '0', '5', '15', '0', '0', '6', '41', '.183', '.240', '.376', '.616', '66', '35', '1', '1', '4', '0', '0'], ['21', '3B', 'Jake Burger', '25', '15', '42', '38', '5', '10', '3', '1', '1', '3', '0', '0', '4', '15', '.263', '.333', '.474', '.807', '118', '18', '2', '0', '0', '0', '0'], ['22', 'UT', 'Romy Gonzalez', '24', '10', '33', '32', '4', '8', '3', '0', '0', '2', '0', '0', '1', '11', '.250', '.273', '.344', '.616', '68', '11', '1', '0', '0', '0', '0'], ['23', 'LF', 'Nick Williams', '27', '4', '13', '10', '2', '0', '0', '0', '0', '0', '0', '0', '1', '4', '.000', '.231', '.000', '.231', '-27', '0', '1', '2', '0', '0', '0'], ['24', 'OF', 'Luis Gonzalez', '25', '6', '11', '8', '2', '2', '2', '0', '0', '0', '0', '0', '3', '2', '.250', '.455', '.500', '.955', '163', '4', '1', '0', '0', '0', '0']]\n"
     ]
    }
   ],
   "source": [
    "import csv\n",
    "import numpy as np\n",
    "\n",
    "#Test to make sure you have the correct data\n",
    "\n",
    "def open_csv(filename, d = ','):\n",
    "    data = []\n",
    "    \n",
    "    with open(filename, encoding = 'utf-8') as mData:\n",
    "        info = csv.reader(mData, delimiter = d)\n",
    "        for row in info:\n",
    "            data.append(row)\n",
    "    return data\n",
    "\n",
    "whitesox_data = open_csv('whitesox_2021_hitting.csv')\n",
    "\n",
    "print(whitesox_data)\n",
    "\n"
   ]
  },
  {
   "cell_type": "code",
   "execution_count": 11,
   "metadata": {},
   "outputs": [],
   "source": [
    "\n",
    "FIELDS = ['Rk', 'Pos', 'Name', 'Age', 'G', 'PA', 'AB', 'R', 'H', '2B', '3B', 'HR', 'RBI', 'SB', 'CS', \n",
    "          'BB', 'SO', 'BA', 'OBP', 'SLG', 'OPS', 'OPS+', 'TB', 'GDP', 'HBP', 'SH', 'SF', 'IBB']\n",
    "\n",
    "DATATYPES = [('rk', 'i'), ('pos', '|S25'), ('name', '|S25'), ('age', 'i'), ('g', 'i'), ('pa', 'i'), ('ab', 'i'),\n",
    "                ('r', 'i'), ('h', 'i'), ('2b', 'i'), ('3b', 'i'), ('hr', 'i'), ('rbi', 'i'), ('sb', 'i'), ('cs', 'i'),\n",
    "                ('bb', 'i'), ('so', 'i'), ('ba', 'f'), ('obp', 'f'), ('slg', 'f'), ('ops', 'f'), ('opsp', 'i'),\n",
    "                ('tb', 'i'), ('gdp', 'i'), ('hbp', 'i'), ('sh', 'i'), ('sf', 'i'), ('ibb', 'i')]\n",
    "\n",
    "#Use this function to actually open the data inside of a NDArray\n",
    "\n",
    "def open_as_ndarray(filename, d=','):\n",
    "    data = np.genfromtxt(filename, delimiter=d, names=FIELDS, dtype=DATATYPES, skip_header=1)\n",
    "    return data\n",
    "\n",
    "\n",
    "whitesox_data = open_as_ndarray('whitesox_2021_hitting.csv')\n",
    "\n"
   ]
  },
  {
   "cell_type": "code",
   "execution_count": 12,
   "metadata": {},
   "outputs": [
    {
     "name": "stdout",
     "output_type": "stream",
     "text": [
      "57.0\n",
      "7.916666666666667\n",
      "11.416666666666666\n"
     ]
    }
   ],
   "source": [
    "def get_team_average(cat):\n",
    "    average = sum(whitesox_data[cat])\n",
    "    length = len(whitesox_data[cat])\n",
    "    return average/length\n",
    "\n",
    "print(get_team_average('H')) # 57.0\n",
    "print(get_team_average('HR')) # 7.916666666666667\n",
    "print(get_team_average('2B')) # 11.416666666666666"
   ]
  },
  {
   "cell_type": "code",
   "execution_count": null,
   "metadata": {},
   "outputs": [],
   "source": []
  },
  {
   "cell_type": "code",
   "execution_count": null,
   "metadata": {},
   "outputs": [],
   "source": []
  }
 ],
 "metadata": {
  "kernelspec": {
   "display_name": "Python 3 (ipykernel)",
   "language": "python",
   "name": "python3"
  },
  "language_info": {
   "codemirror_mode": {
    "name": "ipython",
    "version": 3
   },
   "file_extension": ".py",
   "mimetype": "text/x-python",
   "name": "python",
   "nbconvert_exporter": "python",
   "pygments_lexer": "ipython3",
   "version": "3.9.7"
  }
 },
 "nbformat": 4,
 "nbformat_minor": 2
}
